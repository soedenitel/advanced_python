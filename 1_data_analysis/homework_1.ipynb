{
 "cells": [
  {
   "cell_type": "markdown",
   "id": "05fd7def",
   "metadata": {},
   "source": [
    "# Задание: импорт данных\n",
    "Возьмите данные по вызовам пожарных служб в Москве за 2015-2019 годы:\n",
    "\n",
    "https://video.ittensive.com/python-advanced/data-5283-2019-10-04.utf.csv\n",
    "\n",
    "Получите из них фрейм данных (таблицу значений). По этому фрейму вычислите среднее значение вызовов пожарных машин в месяц в одном округе Москвы, округлив до целых\n",
    "\n",
    "*Примечание: найдите среднее значение вызовов, без учета года*"
   ]
  },
  {
   "cell_type": "code",
   "execution_count": 1,
   "id": "7b88bb19",
   "metadata": {},
   "outputs": [
    {
     "data": {
      "text/plain": [
       "AdmArea\n",
       "Восточный                    655\n",
       "Западный                     557\n",
       "Зеленоградский               155\n",
       "Северный                     469\n",
       "Северо-Восточный             600\n",
       "Северо-Западный              421\n",
       "Троицкий и Новомосковский    364\n",
       "Центральный                  457\n",
       "Юго-Восточный                604\n",
       "Юго-Западный                 487\n",
       "Южный                        655\n",
       "Name: Calls, dtype: int32"
      ]
     },
     "execution_count": 1,
     "metadata": {},
     "output_type": "execute_result"
    }
   ],
   "source": [
    "import pandas as pd\n",
    "import re\n",
    "\n",
    "\n",
    "def correct(value: str) -> str:\n",
    "    corrected = re.sub(r'адм\\w*|окр\\w*', '', value)\n",
    "    corrected = re.sub(r'За\\w*', 'Западный', corrected)\n",
    "    corrected = re.sub(r'Вос\\w*', 'Восточный', corrected)\n",
    "    corrected = re.sub(r'Сев\\w+о', 'Северо', corrected)\n",
    "    corrected = re.sub(r'Троиц\\w+\\s\\w+\\s*\\w*\\s*\\w*', 'Троицкий и Новомосковский', corrected)\n",
    "    corrected = re.sub(r'Юго.*[Зз]\\w*ый', 'Юго-Западный', corrected)\n",
    "    corrected = re.sub(r'Юго.*[Вв]\\w*ый', 'Юго-Восточный', corrected)\n",
    "    return corrected.strip()\n",
    "\n",
    "\n",
    "df = pd.read_csv('https://video.ittensive.com/python-advanced/data-5283-2019-10-04.utf.csv', sep=';', usecols=['AdmArea', 'Calls'])\n",
    "df['AdmArea'] = df['AdmArea'].map(correct)\n",
    "(df.groupby('AdmArea')['Calls'].mean().round()).astype(int)"
   ]
  },
  {
   "cell_type": "markdown",
   "id": "c3454121",
   "metadata": {},
   "source": [
    "Какое среднее значение вызовов пожарных машин в месяц в одном округе Москвы в 2015-2019 годах с точностью до целых?"
   ]
  },
  {
   "cell_type": "code",
   "execution_count": 2,
   "id": "df26cce6",
   "metadata": {},
   "outputs": [
    {
     "data": {
      "text/plain": [
       "493"
      ]
     },
     "execution_count": 2,
     "metadata": {},
     "output_type": "execute_result"
    }
   ],
   "source": [
    "(df['Calls'].mean().round()).astype(int)"
   ]
  }
 ],
 "metadata": {
  "kernelspec": {
   "display_name": "Python 3 (ipykernel)",
   "language": "python",
   "name": "python3"
  },
  "language_info": {
   "codemirror_mode": {
    "name": "ipython",
    "version": 3
   },
   "file_extension": ".py",
   "mimetype": "text/x-python",
   "name": "python",
   "nbconvert_exporter": "python",
   "pygments_lexer": "ipython3",
   "version": "3.10.4"
  }
 },
 "nbformat": 4,
 "nbformat_minor": 5
}
