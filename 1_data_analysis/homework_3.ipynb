{
 "cells": [
  {
   "cell_type": "markdown",
   "id": "e814282f",
   "metadata": {},
   "source": [
    "# Задание: выделение данных\n",
    "\n",
    "Получите данные по безработице в Москве:\n",
    "\n",
    "https://video.ittensive.com/python-advanced/data-9753-2019-07-25.utf.csv"
   ]
  },
  {
   "cell_type": "code",
   "execution_count": 1,
   "id": "7b88bb19",
   "metadata": {},
   "outputs": [
    {
     "data": {
      "text/html": [
       "<div>\n",
       "<style scoped>\n",
       "    .dataframe tbody tr th:only-of-type {\n",
       "        vertical-align: middle;\n",
       "    }\n",
       "\n",
       "    .dataframe tbody tr th {\n",
       "        vertical-align: top;\n",
       "    }\n",
       "\n",
       "    .dataframe thead th {\n",
       "        text-align: right;\n",
       "    }\n",
       "</style>\n",
       "<table border=\"1\" class=\"dataframe\">\n",
       "  <thead>\n",
       "    <tr style=\"text-align: right;\">\n",
       "      <th></th>\n",
       "      <th>global_id</th>\n",
       "      <th>ID</th>\n",
       "      <th>Year</th>\n",
       "      <th>UnemployedMen</th>\n",
       "      <th>UnemployedWomen</th>\n",
       "      <th>UnemployedYoung</th>\n",
       "      <th>UnemployedDisabled</th>\n",
       "      <th>UnemployedTotal</th>\n",
       "      <th>Period</th>\n",
       "      <th>Unnamed: 9</th>\n",
       "    </tr>\n",
       "  </thead>\n",
       "  <tbody>\n",
       "    <tr>\n",
       "      <th>0</th>\n",
       "      <td>39809862</td>\n",
       "      <td>1</td>\n",
       "      <td>2001</td>\n",
       "      <td>8896</td>\n",
       "      <td>25762</td>\n",
       "      <td>6696</td>\n",
       "      <td>824</td>\n",
       "      <td>34658</td>\n",
       "      <td>Декабрь</td>\n",
       "      <td>NaN</td>\n",
       "    </tr>\n",
       "    <tr>\n",
       "      <th>1</th>\n",
       "      <td>64592413</td>\n",
       "      <td>3</td>\n",
       "      <td>2003</td>\n",
       "      <td>8679</td>\n",
       "      <td>24967</td>\n",
       "      <td>6226</td>\n",
       "      <td>1155</td>\n",
       "      <td>33646</td>\n",
       "      <td>Декабрь</td>\n",
       "      <td>NaN</td>\n",
       "    </tr>\n",
       "    <tr>\n",
       "      <th>2</th>\n",
       "      <td>64592414</td>\n",
       "      <td>4</td>\n",
       "      <td>2004</td>\n",
       "      <td>9822</td>\n",
       "      <td>25239</td>\n",
       "      <td>7318</td>\n",
       "      <td>1411</td>\n",
       "      <td>35061</td>\n",
       "      <td>Декабрь</td>\n",
       "      <td>NaN</td>\n",
       "    </tr>\n",
       "    <tr>\n",
       "      <th>3</th>\n",
       "      <td>64592415</td>\n",
       "      <td>5</td>\n",
       "      <td>2005</td>\n",
       "      <td>10844</td>\n",
       "      <td>23597</td>\n",
       "      <td>6890</td>\n",
       "      <td>1531</td>\n",
       "      <td>34441</td>\n",
       "      <td>Декабрь</td>\n",
       "      <td>NaN</td>\n",
       "    </tr>\n",
       "    <tr>\n",
       "      <th>4</th>\n",
       "      <td>64592416</td>\n",
       "      <td>6</td>\n",
       "      <td>2006</td>\n",
       "      <td>11041</td>\n",
       "      <td>22928</td>\n",
       "      <td>6604</td>\n",
       "      <td>1671</td>\n",
       "      <td>33969</td>\n",
       "      <td>Декабрь</td>\n",
       "      <td>NaN</td>\n",
       "    </tr>\n",
       "  </tbody>\n",
       "</table>\n",
       "</div>"
      ],
      "text/plain": [
       "   global_id  ID  Year  UnemployedMen  UnemployedWomen  UnemployedYoung  \\\n",
       "0   39809862   1  2001           8896            25762             6696   \n",
       "1   64592413   3  2003           8679            24967             6226   \n",
       "2   64592414   4  2004           9822            25239             7318   \n",
       "3   64592415   5  2005          10844            23597             6890   \n",
       "4   64592416   6  2006          11041            22928             6604   \n",
       "\n",
       "   UnemployedDisabled  UnemployedTotal   Period  Unnamed: 9  \n",
       "0                 824            34658  Декабрь         NaN  \n",
       "1                1155            33646  Декабрь         NaN  \n",
       "2                1411            35061  Декабрь         NaN  \n",
       "3                1531            34441  Декабрь         NaN  \n",
       "4                1671            33969  Декабрь         NaN  "
      ]
     },
     "execution_count": 1,
     "metadata": {},
     "output_type": "execute_result"
    }
   ],
   "source": [
    "import pandas as pd\n",
    "\n",
    "unemployed_df = pd.read_csv('https://video.ittensive.com/python-advanced/data-9753-2019-07-25.utf.csv', sep=';')\n",
    "unemployed_df.head()"
   ]
  },
  {
   "cell_type": "markdown",
   "id": "775b4395",
   "metadata": {},
   "source": [
    "Найдите, с какого года процент людей с ограниченными возможностями (UnemployedDisabled) среди всех безработных (UnemployedTotal) стал меньше 2%."
   ]
  },
  {
   "cell_type": "code",
   "execution_count": 2,
   "id": "12aaeeb4",
   "metadata": {},
   "outputs": [
    {
     "data": {
      "text/plain": [
       "2018"
      ]
     },
     "execution_count": 2,
     "metadata": {},
     "output_type": "execute_result"
    }
   ],
   "source": [
    "unemployed_df[\n",
    "    (unemployed_df['UnemployedDisabled'] / unemployed_df['UnemployedTotal'] * 100) < 2\n",
    "]['Year'].sort_values().iloc[0]"
   ]
  }
 ],
 "metadata": {
  "kernelspec": {
   "display_name": "Python 3 (ipykernel)",
   "language": "python",
   "name": "python3"
  },
  "language_info": {
   "codemirror_mode": {
    "name": "ipython",
    "version": 3
   },
   "file_extension": ".py",
   "mimetype": "text/x-python",
   "name": "python",
   "nbconvert_exporter": "python",
   "pygments_lexer": "ipython3",
   "version": "3.10.4"
  }
 },
 "nbformat": 4,
 "nbformat_minor": 5
}
