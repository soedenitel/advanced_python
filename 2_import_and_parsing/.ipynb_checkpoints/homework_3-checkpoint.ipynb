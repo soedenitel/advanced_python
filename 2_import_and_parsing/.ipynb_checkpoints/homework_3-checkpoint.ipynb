{
 "cells": [
  {
   "cell_type": "markdown",
   "id": "480d67e7",
   "metadata": {},
   "source": [
    "# Задание: парсинг интернет-магазина\n",
    "\n",
    "Используя парсинг данных с маркетплейса beru.ru, найдите, на сколько литров отличается общий объем холодильников Саратов 263 и Саратов 452?\n",
    "\n",
    "Для парсинга можно использовать зеркало страницы beru.ru с результатами для холодильников Саратов по адресу:\n",
    "\n",
    "video.ittensive.com/data/018-python-advanced/beru.ru/"
   ]
  },
  {
   "cell_type": "code",
   "execution_count": 1,
   "id": "3cc0f38f",
   "metadata": {},
   "outputs": [
    {
     "name": "stdout",
     "output_type": "stream",
     "text": [
      "Общий объем холодильников Саратов 263 и Саратов 452 отличается на 73 литр(а/ов).\n"
     ]
    }
   ],
   "source": [
    "import requests\n",
    "from bs4 import BeautifulSoup\n",
    "import re\n",
    "\n",
    "\n",
    "def extract_links(source_html, keyword_in_href):\n",
    "    extracted_links = set()\n",
    "    for link in source_html.find_all('a'):\n",
    "        if link.has_attr(\"href\") and link[\"href\"].find(keyword_in_href) > -1:\n",
    "            extracted_links.add(link[\"href\"])\n",
    "\n",
    "    return extracted_links\n",
    "\n",
    "\n",
    "def extract_name(source_html):\n",
    "    return source_html.find('h1').get_text()\n",
    "\n",
    "\n",
    "def extract_common_volume(source_html):\n",
    "    for elem in source_html.find_all('span', {'class': '_112Tad-7AP'}):\n",
    "        content = elem.get_text().lower()\n",
    "        if content.find('общий объем') > -1:\n",
    "            return float(content.split()[2])\n",
    "    return 0.0\n",
    "\n",
    "\n",
    "BASE_URL = 'https://video.ittensive.com/data/018-python-advanced/beru.ru/'\n",
    "SARATOV_263 = r'.*Саратов 263.*'\n",
    "SARATOV_452 = r'.*Саратов 452*.'\n",
    "\n",
    "html = BeautifulSoup(requests.get(BASE_URL).content)\n",
    "saratov_263_common_volume, saratov_452_common_volume = 0, 0\n",
    "\n",
    "for url in extract_links(html, 'saratov'):\n",
    "    url_html = BeautifulSoup(requests.get(BASE_URL + url).content)\n",
    "    if saratov_263_common_volume == 0 and re.search(SARATOV_263, extract_name(url_html)) != None:\n",
    "        saratov_263_common_volume = extract_common_volume(url_html)        \n",
    "    elif saratov_452_common_volume == 0 and re.search(SARATOV_452, extract_name(url_html)) != None:\n",
    "        saratov_452_common_volume = extract_common_volume(url_html)\n",
    "\n",
    "print('Общий объем холодильников Саратов 263 и Саратов 452 отличается на {0:d} литр(а/ов).'.format(\n",
    "        round(saratov_263_common_volume - saratov_452_common_volume)\n",
    "))"
   ]
  }
 ],
 "metadata": {
  "kernelspec": {
   "display_name": "Python 3 (ipykernel)",
   "language": "python",
   "name": "python3"
  },
  "language_info": {
   "codemirror_mode": {
    "name": "ipython",
    "version": 3
   },
   "file_extension": ".py",
   "mimetype": "text/x-python",
   "name": "python",
   "nbconvert_exporter": "python",
   "pygments_lexer": "ipython3",
   "version": "3.10.4"
  }
 },
 "nbformat": 4,
 "nbformat_minor": 5
}
