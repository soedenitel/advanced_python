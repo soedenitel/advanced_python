{
 "cells": [
  {
   "cell_type": "markdown",
   "id": "298c8b7e",
   "metadata": {},
   "source": [
    "# Задание: получение данных по API\n",
    "Изучите API Геокодера Яндекса\n",
    "\n",
    "tech.yandex.ru/maps/geocoder/doc/desc/concepts/input_params-docpage/\n",
    "\n",
    "и получите ключ API для него в кабинете разработчика.\n",
    "\n",
    "Выполните запрос к API и узнайте долготу точки на карте (Point) для города Самара.\n",
    "\n",
    "**Внимание**: активация ключа Геокодера Яндекса может занимать несколько часов (до суток)."
   ]
  },
  {
   "cell_type": "code",
   "execution_count": 1,
   "id": "a3a2fb55",
   "metadata": {},
   "outputs": [],
   "source": [
    "import json\n",
    "import requests"
   ]
  },
  {
   "cell_type": "code",
   "execution_count": 2,
   "id": "bb8baf73",
   "metadata": {},
   "outputs": [
    {
     "name": "stdout",
     "output_type": "stream",
     "text": [
      "Код ответа: 200\n"
     ]
    }
   ],
   "source": [
    "request_headers = {\n",
    "    \"Content-Type\": \"application/json\",\n",
    "    \"Accept\": \"application/json;charset=UTF-8\"\n",
    "}\n",
    "\n",
    "url = \"https://geocode-maps.yandex.ru/1.x/?apikey=27c4616f-aed3-455e-86e0-7eaf91efa55c&format=json&result=1&geocode=Самара\"\n",
    "response = requests.get(url, headers=request_headers)\n",
    "print(\"Код ответа:\", response.status_code)"
   ]
  },
  {
   "cell_type": "code",
   "execution_count": 3,
   "id": "ef5f003d",
   "metadata": {},
   "outputs": [
    {
     "name": "stdout",
     "output_type": "stream",
     "text": [
      "Долгота Самары: 50.100202\n"
     ]
    }
   ],
   "source": [
    "if response.status_code == 200:\n",
    "    print(\n",
    "        'Долгота Самары:',\n",
    "        json.loads(response.text)['response']['GeoObjectCollection']['featureMember'][0]['GeoObject']['Point']['pos'].split()[0]\n",
    "    )\n",
    "else:\n",
    "    print('Геокодер не дал информации, код ответа:', response.status_code)"
   ]
  }
 ],
 "metadata": {
  "kernelspec": {
   "display_name": "Python 3 (ipykernel)",
   "language": "python",
   "name": "python3"
  },
  "language_info": {
   "codemirror_mode": {
    "name": "ipython",
    "version": 3
   },
   "file_extension": ".py",
   "mimetype": "text/x-python",
   "name": "python",
   "nbconvert_exporter": "python",
   "pygments_lexer": "ipython3",
   "version": "3.10.4"
  }
 },
 "nbformat": 4,
 "nbformat_minor": 5
}
