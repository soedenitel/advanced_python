{
 "cells": [
  {
   "cell_type": "markdown",
   "id": "4e05143a",
   "metadata": {},
   "source": [
    "# Задание: получение котировок акций\n",
    "\n",
    "Получите данные по котировкам акций со страницы:\n",
    "\n",
    "mfd.ru/marketdata/?id=5&group=16&mode=3&sortHeader=name&sortOrder=1&selectedDate=01.11.2019"
   ]
  },
  {
   "cell_type": "code",
   "execution_count": 1,
   "id": "c8be8e4a",
   "metadata": {},
   "outputs": [],
   "source": [
    "import requests\n",
    "import pandas as pd\n",
    "from bs4 import BeautifulSoup\n",
    "import matplotlib.pyplot as plt\n",
    "\n",
    "%matplotlib inline\n",
    "%config InlineBackend.figure_format = 'svg'\n",
    "from pylab import rcParams\n",
    "rcParams['figure.figsize'] = 10, 4\n",
    "plt.style.use('seaborn-whitegrid')\n",
    "\n",
    "request = requests.get(\"https://mfd.ru/marketdata/?id=5&group=16&mode=3&sortHeader=name&sortOrder=1&selectedDate=01.11.2019\")\n",
    "html = BeautifulSoup(request.content)"
   ]
  },
  {
   "cell_type": "code",
   "execution_count": 2,
   "id": "85696e87",
   "metadata": {},
   "outputs": [],
   "source": [
    "data = []\n",
    "table = html.find('table', {'id': 'marketDataList'})\n",
    "tbody = table.find_all('tbody')[1]\n",
    "\n",
    "for tr in tbody.find_all('tr'):\n",
    "    data.append([td.get_text().strip() for td in tr.find_all('td')])\n",
    "\n",
    "df = pd.DataFrame(\n",
    "    data,\n",
    "    columns=[\n",
    "        'ticker',\n",
    "        'time',\n",
    "        'last_trade_price',\n",
    "        'last_trade_price_delta',\n",
    "        'last_trade_price_delta_in_percents',\n",
    "        'previous_price',\n",
    "        'open_price',\n",
    "        'low_price',\n",
    "        'high_price',\n",
    "        'average_price',\n",
    "        'day_volume',\n",
    "        'day_money_volume',\n",
    "        'trades_volume'\n",
    "    ],\n",
    ")\n",
    "\n",
    "\n",
    "def to_float(value: str) -> float:\n",
    "    if len(value) == 0:\n",
    "        return 0\n",
    "    \n",
    "    modified = value.replace(' ', '').replace('N/A', '0').replace('%', '0')\n",
    "    if modified[0] == '−':\n",
    "        return -1 * float(modified[1:])\n",
    "    elif modified[0] == '+':\n",
    "        return float(modified[1:])\n",
    "    else:\n",
    "        return float(modified)\n",
    "\n",
    "\n",
    "df['ticker'] = df['ticker'].str.replace('+', '', regex=False)\n",
    "df['time'] = pd.to_datetime(df['time'], format='%d.%m.%Y')\n",
    "df['last_trade_price'] = df['last_trade_price'].map(to_float)\n",
    "df['last_trade_price_delta'] = df['last_trade_price_delta'].map(to_float)\n",
    "df['last_trade_price_delta_in_percents'] = df['last_trade_price_delta_in_percents'].map(to_float)\n",
    "df['previous_price'] = df['previous_price'].map(to_float)\n",
    "df['open_price'] = df['open_price'].map(to_float)\n",
    "df['low_price'] = df['low_price'].map(to_float)\n",
    "df['high_price'] = df['high_price'].map(to_float)\n",
    "df['average_price'] = df['average_price'].map(to_float)\n",
    "df['day_volume'] = df['day_volume'].map(to_float)\n",
    "df['day_money_volume'] = df['day_money_volume'].map(to_float)\n",
    "df['trades_volume'] = df['trades_volume'].map(to_float)"
   ]
  },
  {
   "cell_type": "markdown",
   "id": "7e682c74",
   "metadata": {},
   "source": [
    "> и найдите, по какому тикеру был максимальный рост числа сделок (в процентах) за 1 ноября 2019 года."
   ]
  },
  {
   "cell_type": "code",
   "execution_count": 3,
   "id": "59abffb1",
   "metadata": {},
   "outputs": [
    {
     "data": {
      "text/plain": [
       "113    ИКРУСС-ИНВ\n",
       "Name: ticker, dtype: object"
      ]
     },
     "execution_count": 3,
     "metadata": {},
     "output_type": "execute_result"
    }
   ],
   "source": [
    "df[df['last_trade_price_delta_in_percents'] == df['last_trade_price_delta_in_percents'].max()]['ticker']"
   ]
  }
 ],
 "metadata": {
  "kernelspec": {
   "display_name": "Python 3 (ipykernel)",
   "language": "python",
   "name": "python3"
  },
  "language_info": {
   "codemirror_mode": {
    "name": "ipython",
    "version": 3
   },
   "file_extension": ".py",
   "mimetype": "text/x-python",
   "name": "python",
   "nbconvert_exporter": "python",
   "pygments_lexer": "ipython3",
   "version": "3.10.4"
  }
 },
 "nbformat": 4,
 "nbformat_minor": 5
}
