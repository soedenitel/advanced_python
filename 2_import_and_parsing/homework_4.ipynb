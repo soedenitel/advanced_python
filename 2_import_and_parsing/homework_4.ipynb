{
 "cells": [
  {
   "cell_type": "markdown",
   "id": "0ae451f7",
   "metadata": {},
   "source": [
    "# Задание: загрузка результатов в БД\n",
    "Соберите данные о моделях холодильников Саратов с маркетплейса beru.ru: URL, название, цена, размеры, общий объем, объем холодильной камеры.\n",
    "\n",
    "Создайте соответствующие таблицы в SQLite базе данных и загрузите полученные данные в таблицу beru_goods.\n",
    "\n",
    "Для парсинга можно использовать зеркало страницы beru.ru с результатами для холодильников Саратов по адресу:\n",
    "\n",
    "video.ittensive.com/data/018-python-advanced/beru.ru/"
   ]
  },
  {
   "cell_type": "code",
   "execution_count": 1,
   "id": "5d8b9904",
   "metadata": {},
   "outputs": [
    {
     "data": {
      "text/plain": [
       "'\\ndb.execute(\"\"\"\\n    CREATE TABLE beru_goods\\n        (id INTEGER PRIMARY KEY AUTOINCREMENT not null,\\n        url text,\\n        name text default \\'\\',\\n        price REAL default 0,\\n        width REAL default 0,\\n        height REAL default 0,\\n        depth REAL default 0,\\n        common_volume REAL default 0,\\n        freezer_volume REAL default 0)\\n\"\"\")\\nconnection.commit()\\n'"
      ]
     },
     "execution_count": 1,
     "metadata": {},
     "output_type": "execute_result"
    }
   ],
   "source": [
    "import requests\n",
    "from bs4 import BeautifulSoup\n",
    "import sqlite3\n",
    "\n",
    "\n",
    "connection = sqlite3.connect('homework.db3')\n",
    "db = connection.cursor()\n",
    "db.execute(\"\"\"\n",
    "    CREATE TABLE beru_goods\n",
    "        (id INTEGER PRIMARY KEY AUTOINCREMENT not null,\n",
    "        url text,\n",
    "        name text default '',\n",
    "        price REAL default 0,\n",
    "        width REAL default 0,\n",
    "        height REAL default 0,\n",
    "        depth REAL default 0,\n",
    "        common_volume REAL default 0,\n",
    "        freezer_volume REAL default 0)\n",
    "\"\"\")\n",
    "connection.commit()"
   ]
  },
  {
   "cell_type": "code",
   "execution_count": 2,
   "id": "da07d55f",
   "metadata": {},
   "outputs": [],
   "source": [
    "def extract_links(source_html, keyword_in_href):\n",
    "    extracted_links = set()\n",
    "    for link in source_html.find_all('a'):\n",
    "        if link.has_attr(\"href\") and link[\"href\"].find(keyword_in_href) > -1:\n",
    "            extracted_links.add(link[\"href\"])\n",
    "\n",
    "    return extracted_links\n",
    "\n",
    "\n",
    "def extract_name(source_html):\n",
    "    return source_html.find('h1').get_text()\n",
    "\n",
    "\n",
    "def extract_price(source_html):\n",
    "    return float(source_html.find('span', {'data-tid': 'c3eaad93'}).get_text().replace(' ', ''))\n",
    "\n",
    "\n",
    "def extract_size(source_html):    \n",
    "    for elem in source_html.find_all('span', {'class': '_112Tad-7AP'}):\n",
    "        content = elem.get_text().lower()\n",
    "        if content.find('ШхВхГ'.lower()) > -1:\n",
    "            return [float(d) for d in content.split()[1].split('х')]\n",
    "    return [0.0, 0.0, 0.0]\n",
    "\n",
    "\n",
    "def extract_common_volume(source_html):\n",
    "    for elem in source_html.find_all('span', {'class': '_112Tad-7AP'}):\n",
    "        content = elem.get_text().lower()\n",
    "        if content.find('общий объем') > -1:\n",
    "            return float(content.split()[2])\n",
    "    return 0.0\n",
    "\n",
    "\n",
    "def extract_freezer_volume(source_html):\n",
    "    for elem in source_html.find_all('span', {'class': '_112Tad-7AP'}):\n",
    "        content = elem.get_text().lower()\n",
    "        if content.find('объем холодильной камеры') > -1:\n",
    "            return float(content.split()[3])\n",
    "    return 0.0\n",
    "\n",
    "\n",
    "BASE_URL = 'https://video.ittensive.com/data/018-python-advanced/beru.ru/'\n",
    "r = requests.get(BASE_URL)\n",
    "html = BeautifulSoup(r.content)\n",
    "\n",
    "for url in extract_links(html, 'saratov'):\n",
    "    url_html = BeautifulSoup(requests.get(BASE_URL + url).content)\n",
    "    w, h, d = extract_size(url_html)\n",
    "    db.execute(\"\"\"\n",
    "        INSERT INTO beru_goods (url, name, price, width, height, depth, common_volume, freezer_volume)\n",
    "        VALUES (?, ?, ?, ?, ?, ?, ?, ?)\n",
    "    \"\"\", (\n",
    "        url,\n",
    "        extract_name(url_html),\n",
    "        extract_price(url_html),\n",
    "        w, h, d,\n",
    "        extract_common_volume(url_html),\n",
    "        extract_freezer_volume(url_html)\n",
    "    ))\n",
    "connection.commit()\n",
    "db.close()"
   ]
  },
  {
   "cell_type": "markdown",
   "id": "37bbd26c",
   "metadata": {},
   "source": [
    "Какая ширина у холодильника Саратов 264 в см?"
   ]
  },
  {
   "cell_type": "code",
   "execution_count": 3,
   "id": "2421e96b",
   "metadata": {},
   "outputs": [
    {
     "data": {
      "text/html": [
       "<div>\n",
       "<style scoped>\n",
       "    .dataframe tbody tr th:only-of-type {\n",
       "        vertical-align: middle;\n",
       "    }\n",
       "\n",
       "    .dataframe tbody tr th {\n",
       "        vertical-align: top;\n",
       "    }\n",
       "\n",
       "    .dataframe thead th {\n",
       "        text-align: right;\n",
       "    }\n",
       "</style>\n",
       "<table border=\"1\" class=\"dataframe\">\n",
       "  <thead>\n",
       "    <tr style=\"text-align: right;\">\n",
       "      <th></th>\n",
       "      <th>url</th>\n",
       "      <th>name</th>\n",
       "      <th>price</th>\n",
       "      <th>width</th>\n",
       "      <th>height</th>\n",
       "      <th>depth</th>\n",
       "      <th>common_volume</th>\n",
       "      <th>freezer_volume</th>\n",
       "    </tr>\n",
       "    <tr>\n",
       "      <th>id</th>\n",
       "      <th></th>\n",
       "      <th></th>\n",
       "      <th></th>\n",
       "      <th></th>\n",
       "      <th></th>\n",
       "      <th></th>\n",
       "      <th></th>\n",
       "      <th></th>\n",
       "    </tr>\n",
       "  </thead>\n",
       "  <tbody>\n",
       "    <tr>\n",
       "      <th>1</th>\n",
       "      <td>kholodilnik-saratov-264-kshd-150-30.html</td>\n",
       "      <td>Холодильник Саратов 264 (КШД-150/30)</td>\n",
       "      <td>14151.0</td>\n",
       "      <td>48.0</td>\n",
       "      <td>123.0</td>\n",
       "      <td>60.0</td>\n",
       "      <td>152.0</td>\n",
       "      <td>122.0</td>\n",
       "    </tr>\n",
       "    <tr>\n",
       "      <th>3</th>\n",
       "      <td>kholodilnik-saratov-264-kshd-150-30-seryi.html</td>\n",
       "      <td>Холодильник Саратов 264 (КШД-150/30) серый</td>\n",
       "      <td>14369.0</td>\n",
       "      <td>48.0</td>\n",
       "      <td>123.0</td>\n",
       "      <td>60.0</td>\n",
       "      <td>152.0</td>\n",
       "      <td>122.0</td>\n",
       "    </tr>\n",
       "    <tr>\n",
       "      <th>13</th>\n",
       "      <td>kholodilnik-saratov-264-kshd-150-30.html</td>\n",
       "      <td>Холодильник Саратов 264 (КШД-150/30)</td>\n",
       "      <td>14151.0</td>\n",
       "      <td>48.0</td>\n",
       "      <td>123.0</td>\n",
       "      <td>60.0</td>\n",
       "      <td>152.0</td>\n",
       "      <td>122.0</td>\n",
       "    </tr>\n",
       "    <tr>\n",
       "      <th>16</th>\n",
       "      <td>kholodilnik-saratov-264-kshd-150-30-seryi.html</td>\n",
       "      <td>Холодильник Саратов 264 (КШД-150/30) серый</td>\n",
       "      <td>14369.0</td>\n",
       "      <td>48.0</td>\n",
       "      <td>123.0</td>\n",
       "      <td>60.0</td>\n",
       "      <td>152.0</td>\n",
       "      <td>122.0</td>\n",
       "    </tr>\n",
       "  </tbody>\n",
       "</table>\n",
       "</div>"
      ],
      "text/plain": [
       "                                               url  \\\n",
       "id                                                   \n",
       "1         kholodilnik-saratov-264-kshd-150-30.html   \n",
       "3   kholodilnik-saratov-264-kshd-150-30-seryi.html   \n",
       "13        kholodilnik-saratov-264-kshd-150-30.html   \n",
       "16  kholodilnik-saratov-264-kshd-150-30-seryi.html   \n",
       "\n",
       "                                          name    price  width  height  depth  \\\n",
       "id                                                                              \n",
       "1         Холодильник Саратов 264 (КШД-150/30)  14151.0   48.0   123.0   60.0   \n",
       "3   Холодильник Саратов 264 (КШД-150/30) серый  14369.0   48.0   123.0   60.0   \n",
       "13        Холодильник Саратов 264 (КШД-150/30)  14151.0   48.0   123.0   60.0   \n",
       "16  Холодильник Саратов 264 (КШД-150/30) серый  14369.0   48.0   123.0   60.0   \n",
       "\n",
       "    common_volume  freezer_volume  \n",
       "id                                 \n",
       "1           152.0           122.0  \n",
       "3           152.0           122.0  \n",
       "13          152.0           122.0  \n",
       "16          152.0           122.0  "
      ]
     },
     "execution_count": 3,
     "metadata": {},
     "output_type": "execute_result"
    }
   ],
   "source": [
    "import pandas as pd\n",
    "data = pd.read_sql_query('SELECT * from beru_goods', con=connection, index_col='id')\n",
    "saratov264_df = data[data['name'].str.find('Саратов 264') > -1]\n",
    "saratov264_df"
   ]
  },
  {
   "cell_type": "code",
   "execution_count": 4,
   "id": "2efe1981",
   "metadata": {},
   "outputs": [
    {
     "name": "stdout",
     "output_type": "stream",
     "text": [
      "У холодильника Саратов 264 ширина 48 см.\n"
     ]
    }
   ],
   "source": [
    "print('У холодильника Саратов 264 ширина {0:d} см.'.format(int(saratov264_df['width'].to_list()[0])))"
   ]
  }
 ],
 "metadata": {
  "kernelspec": {
   "display_name": "Python 3 (ipykernel)",
   "language": "python",
   "name": "python3"
  },
  "language_info": {
   "codemirror_mode": {
    "name": "ipython",
    "version": 3
   },
   "file_extension": ".py",
   "mimetype": "text/x-python",
   "name": "python",
   "nbconvert_exporter": "python",
   "pygments_lexer": "ipython3",
   "version": "3.10.4"
  }
 },
 "nbformat": 4,
 "nbformat_minor": 5
}
