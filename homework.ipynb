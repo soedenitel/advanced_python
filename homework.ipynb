{
 "cells": [
  {
   "cell_type": "markdown",
   "id": "f3859f11",
   "metadata": {},
   "source": [
    "# Выполненные задания по теме \"Продвинутый Python\"\n",
    "\n",
    "## Часть 1: анализ данных\n",
    "1. [numpy и pandas](1_data_analysis/homework_1.ipynb)\n",
    "2. [Индексы и объединение фреймов](1_data_analysis/homework_2.ipynb)\n",
    "3. [Фильтрация и изменение данных](1_data_analysis/homework_3.ipynb)\n",
    "3. [Линейная регрессия](1_data_analysis/homework_4.ipynb)\n",
    "\n",
    "## Часть 2: импорт и парсинг данных\n",
    "1. [Импорт данных](2_import_and_parsing/homework_1.ipynb)\n",
    "2. [Парсинг данных](2_import_and_parsing/homework_2.ipynb)\n",
    "3. [Веб-скрепинг](2_import_and_parsing/homework_3.ipynb)\n",
    "4. [Работа с SQL](2_import_and_parsing/homework_4.ipynb)\n",
    "\n",
    "## Часть 3: визуализация данных\n",
    "1. [Основы Matplotlib](3_data_visualization/homework_1.ipynb)\n",
    "2. [Визуализация зависимостей](3_data_visualization/homework_2.ipynb)\n",
    "3. [Временные ряды](3_data_visualization/homework_3.ipynb)\n",
    "4. [Гео-данные и картограммы](3_data_visualization/homework_4.ipynb)\n",
    "\n",
    "## Часть 4: отчеты и автоматизация\n",
    "1. [Работа с PDF](4_reports_and_automatization/homework_1.ipynb)\n",
    "2. [Базовые отчеты](4_reports_and_automatization/homework_2.ipynb)\n",
    "3. [Генерация отчетов](4_reports_and_automatization/homework_3.ipynb)\n",
    "4. [Отправка email и интеграция](4_reports_and_automatization/homework_4.ipynb)"
   ]
  }
 ],
 "metadata": {
  "kernelspec": {
   "display_name": "Python 3 (ipykernel)",
   "language": "python",
   "name": "python3"
  },
  "language_info": {
   "codemirror_mode": {
    "name": "ipython",
    "version": 3
   },
   "file_extension": ".py",
   "mimetype": "text/x-python",
   "name": "python",
   "nbconvert_exporter": "python",
   "pygments_lexer": "ipython3",
   "version": "3.10.4"
  }
 },
 "nbformat": 4,
 "nbformat_minor": 5
}
